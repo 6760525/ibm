{
 "cells": [
  {
   "cell_type": "code",
   "execution_count": 1,
   "metadata": {},
   "outputs": [],
   "source": [
    "#here we will be using the data from the previous notebook to create different models and compare them to see which one is the best\n",
    "\n",
    "# Importing the libraries\n",
    "from solution_guidance.model import model_train, model_load, model_predict"
   ]
  },
  {
   "cell_type": "code",
   "execution_count": 2,
   "metadata": {},
   "outputs": [
    {
     "name": "stdout",
     "output_type": "stream",
     "text": [
      "... loading ts data from files\n",
      "... saving model: models\\sl-all-0_1.joblib\n",
      "... saving model: models\\sl-eire-0_1.joblib\n",
      "... saving model: models\\sl-france-0_1.joblib\n",
      "... saving model: models\\sl-germany-0_1.joblib\n",
      "... saving model: models\\sl-hong_kong-0_1.joblib\n",
      "... saving model: models\\sl-netherlands-0_1.joblib\n",
      "... saving model: models\\sl-norway-0_1.joblib\n",
      "... saving model: models\\sl-portugal-0_1.joblib\n",
      "... saving model: models\\sl-singapore-0_1.joblib\n",
      "... saving model: models\\sl-spain-0_1.joblib\n",
      "... saving model: models\\sl-united_kingdom-0_1.joblib\n"
     ]
    }
   ],
   "source": [
    "model_train('cs-train')"
   ]
  },
  {
   "cell_type": "code",
   "execution_count": 3,
   "metadata": {},
   "outputs": [
    {
     "name": "stdout",
     "output_type": "stream",
     "text": [
      "... loading ts data from files\n",
      "all_data:  , all, eire, france, germany, hong_kong, netherlands, norway, portugal, singapore, spain, united_kingdom\n"
     ]
    }
   ],
   "source": [
    "# load the model\n",
    "all_data, all_models = model_load(data_dir='cs-train')\n",
    "print(\"all_data: \", \", \".join(all_models.keys()))"
   ]
  },
  {
   "cell_type": "code",
   "execution_count": 4,
   "metadata": {},
   "outputs": [
    {
     "name": "stdout",
     "output_type": "stream",
     "text": [
      "... loading ts data from files\n",
      "2018-01-05\n",
      "{'y_pred': array([183368.54356]), 'y_proba': None}\n"
     ]
    }
   ],
   "source": [
    "# predict\n",
    "country = 'all'\n",
    "year = '2018'\n",
    "month = '01'\n",
    "day = '05'\n",
    "result = model_predict(country, year, month, day)\n",
    "print(result)"
   ]
  },
  {
   "cell_type": "code",
   "execution_count": null,
   "metadata": {},
   "outputs": [],
   "source": []
  }
 ],
 "metadata": {
  "kernelspec": {
   "display_name": "Python 3",
   "language": "python",
   "name": "python3"
  },
  "language_info": {
   "codemirror_mode": {
    "name": "ipython",
    "version": 3
   },
   "file_extension": ".py",
   "mimetype": "text/x-python",
   "name": "python",
   "nbconvert_exporter": "python",
   "pygments_lexer": "ipython3",
   "version": "3.10.4"
  }
 },
 "nbformat": 4,
 "nbformat_minor": 2
}
