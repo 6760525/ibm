{
 "cells": [
  {
   "cell_type": "markdown",
   "metadata": {},
   "source": [
    "<hr>\n",
    "\n",
    "# AI Workflow Capstone - AAVAIL - **Part 2**\n",
    "\n",
    "Student: `Alexey Tyurin`<br>\n",
    "Date: `1/17/2024`\n",
    "<hr>\n",
    "\n",
    "### Introduction\n",
    "This case study focuses on data transformations and models in time-series forecasting. Time-series data, prevalent in finance, signal processing, and weather forecasting, involves predicting future values based on past observations. This study will guide you through applying supervised learning techniques to such data, encouraging exploration of time-series modeling tools. The objective is to forecast metrics like purchases, views, or revenue, closely tied to business opportunities.\n",
    "\n",
    "### Time-series analysis\n",
    "In our time-series analysis, we primarily use TensorFlow, scikit-learn, and Spark ML for model implementation. This approach is vital for predicting future business metrics like monthly revenue. For such predictions, feature engineering is key. We can create features from past revenue data (e.g., previous day, week, month, three months) to help models like random forests or boosting algorithms identify data patterns. This feature engineering is often tailored to each specific case.\n",
    "\n",
    "Although our current goal is to predict the next point in a time-series, considering future projections, such as three months ahead, can be beneficial. This can be done using recursive forecasting, where predictions are iteratively added to the feature matrix, or ensemble forecasting, which uses separate models for each forecast. A combination of these methods can also be effective.\n",
    "\n",
    "It's important to note that linear regression assumptions may not hold in time-series due to auto-correlation, especially when features are mainly revenue-based and highly correlated. More sophisticated models, combined with well-crafted features, are generally more effective in this context.\n",
    "\n",
    "### Deliverables for Data Engineering in Time-Series Forecasting:\n",
    "\n",
    "**Feature Engineering with Rolling Window**:\n",
    "- Utilize historical data, as future values (unrealized) are unknown.\n",
    "Generate additional features based on historical values for each data point. This involves creating a rolling window of past data (e.g., daily, weekly, monthly) to capture trends and patterns in the historical revenue data.\n",
    "\n",
    "\n",
    "**Target Value with Rolling Window**:\n",
    "- Standardize the target across models to be the sum of revenues over the next 30 days for any given point in time.\n",
    "In supervised learning, this target is represented as a single number, encapsulating the total forecasted revenue for the forthcoming thirty days. This approach ensures consistency and comparability across different models and forecasting techniques.\n",
    "\n",
    "### Tasks\n",
    "1. State the different modeling approaches that you will compare to address the business opportunity.\n",
    "2. Iterate on your suite of possible models by modifying data transformations, pipeline architectures, hyperparameters and other relevant factors.\n",
    "3. Re-train your model on all of the data using the selected approach and prepare it for deployment.\n",
    "4. Articulate your findings in a summary report.\n",
    "\n",
    "**HINT:** *To standardize the approach across models ensure that your model predicts the next 30 days for any given point in time. For supervised learning, the total revenue over the next thirty days can be represented as a single number.*"
   ]
  },
  {
   "cell_type": "markdown",
   "metadata": {},
   "source": [
    "### 1. State the different modeling approaches that you will compare to address the business opportunity."
   ]
  },
  {
   "cell_type": "code",
   "execution_count": 6,
   "metadata": {},
   "outputs": [],
   "source": [
    "# Libraries\n",
    "\n",
    "import os\n",
    "#import re\n",
    "import time\n",
    "import numpy as np\n",
    "import pandas as pd\n",
    "from datetime import datetime\n",
    "from sklearn.base import BaseEstimator, TransformerMixin\n",
    "from sklearn.pipeline import Pipeline\n",
    "from cslib import fetch_data\n",
    "\n",
    "DEV=True"
   ]
  },
  {
   "cell_type": "code",
   "execution_count": 7,
   "metadata": {},
   "outputs": [],
   "source": [
    "# CONSTANTS\n",
    "\n",
    "IMAGE_DIR = os.path.join(\".\", \"images\")\n",
    "DATA_TRAIN_DIR = os.path.join(\".\", \"cs-train\")\n",
    "DATA_PROD_DIR = os.path.join(\".\", \"cs-production\")"
   ]
  },
  {
   "cell_type": "code",
   "execution_count": 16,
   "metadata": {},
   "outputs": [],
   "source": [
    "df = fetch_data(DATA_TRAIN_DIR)"
   ]
  },
  {
   "cell_type": "code",
   "execution_count": 17,
   "metadata": {},
   "outputs": [
    {
     "data": {
      "text/html": [
       "<div>\n",
       "<style scoped>\n",
       "    .dataframe tbody tr th:only-of-type {\n",
       "        vertical-align: middle;\n",
       "    }\n",
       "\n",
       "    .dataframe tbody tr th {\n",
       "        vertical-align: top;\n",
       "    }\n",
       "\n",
       "    .dataframe thead th {\n",
       "        text-align: right;\n",
       "    }\n",
       "</style>\n",
       "<table border=\"1\" class=\"dataframe\">\n",
       "  <thead>\n",
       "    <tr style=\"text-align: right;\">\n",
       "      <th></th>\n",
       "      <th>country</th>\n",
       "      <th>invoice_date</th>\n",
       "      <th>purchases</th>\n",
       "      <th>unique_invoices</th>\n",
       "      <th>unique_streams</th>\n",
       "      <th>total_views</th>\n",
       "      <th>revenue</th>\n",
       "    </tr>\n",
       "  </thead>\n",
       "  <tbody>\n",
       "    <tr>\n",
       "      <th>308</th>\n",
       "      <td>Total</td>\n",
       "      <td>2018-12-09</td>\n",
       "      <td>1403</td>\n",
       "      <td>50</td>\n",
       "      <td>767</td>\n",
       "      <td>5052</td>\n",
       "      <td>3874.27</td>\n",
       "    </tr>\n",
       "    <tr>\n",
       "      <th>1629</th>\n",
       "      <td>Norway</td>\n",
       "      <td>2019-06-18</td>\n",
       "      <td>90</td>\n",
       "      <td>1</td>\n",
       "      <td>90</td>\n",
       "      <td>570</td>\n",
       "      <td>473.36</td>\n",
       "    </tr>\n",
       "    <tr>\n",
       "      <th>20</th>\n",
       "      <td>Total</td>\n",
       "      <td>2017-12-20</td>\n",
       "      <td>540</td>\n",
       "      <td>32</td>\n",
       "      <td>395</td>\n",
       "      <td>3028</td>\n",
       "      <td>2268.31</td>\n",
       "    </tr>\n",
       "    <tr>\n",
       "      <th>446</th>\n",
       "      <td>Total</td>\n",
       "      <td>2019-06-05</td>\n",
       "      <td>2262</td>\n",
       "      <td>110</td>\n",
       "      <td>1095</td>\n",
       "      <td>11752</td>\n",
       "      <td>10507.89</td>\n",
       "    </tr>\n",
       "    <tr>\n",
       "      <th>619</th>\n",
       "      <td>EIRE</td>\n",
       "      <td>2019-05-29</td>\n",
       "      <td>1</td>\n",
       "      <td>1</td>\n",
       "      <td>1</td>\n",
       "      <td>1</td>\n",
       "      <td>7.50</td>\n",
       "    </tr>\n",
       "    <tr>\n",
       "      <th>645</th>\n",
       "      <td>EIRE</td>\n",
       "      <td>2019-07-23</td>\n",
       "      <td>10</td>\n",
       "      <td>2</td>\n",
       "      <td>10</td>\n",
       "      <td>85</td>\n",
       "      <td>73.02</td>\n",
       "    </tr>\n",
       "  </tbody>\n",
       "</table>\n",
       "</div>"
      ],
      "text/plain": [
       "     country invoice_date  purchases  unique_invoices  unique_streams  \\\n",
       "308    Total   2018-12-09       1403               50             767   \n",
       "1629  Norway   2019-06-18         90                1              90   \n",
       "20     Total   2017-12-20        540               32             395   \n",
       "446    Total   2019-06-05       2262              110            1095   \n",
       "619     EIRE   2019-05-29          1                1               1   \n",
       "645     EIRE   2019-07-23         10                2              10   \n",
       "\n",
       "      total_views   revenue  \n",
       "308          5052   3874.27  \n",
       "1629          570    473.36  \n",
       "20           3028   2268.31  \n",
       "446         11752  10507.89  \n",
       "619             1      7.50  \n",
       "645            85     73.02  "
      ]
     },
     "execution_count": 17,
     "metadata": {},
     "output_type": "execute_result"
    }
   ],
   "source": [
    "# Creating a Summary DataFrame\n",
    "\n",
    "ds = df.groupby(['country', 'invoice_date']).agg(\n",
    "    purchases=('invoice', 'size'),\n",
    "    unique_invoices=('invoice', 'nunique'),\n",
    "    unique_streams=('stream_id', 'nunique'),\n",
    "    total_views=('times_viewed', 'sum'),\n",
    "    revenue=('price', 'sum')\n",
    ").reset_index()\n",
    "\n",
    "top = df.groupby('country')['price'].sum().nlargest(10).index.tolist()\n",
    "ds = ds[ds['country'].isin(top)]\n",
    "\n",
    "totals = ds.drop(['country'], axis=1).groupby('invoice_date').sum().reset_index()\n",
    "totals['country'] = 'Total'\n",
    "totals = totals[ds.columns]\n",
    "ds = pd.concat([ds, totals])\n",
    "\n",
    "ds.sample(6)"
   ]
  },
  {
   "cell_type": "code",
   "execution_count": null,
   "metadata": {},
   "outputs": [],
   "source": []
  },
  {
   "cell_type": "markdown",
   "metadata": {},
   "source": [
    "### 2. Iterate on your suite of possible models by modifying data transformations, pipeline architectures, hyperparameters and other relevant factors."
   ]
  },
  {
   "cell_type": "code",
   "execution_count": null,
   "metadata": {},
   "outputs": [],
   "source": []
  },
  {
   "cell_type": "code",
   "execution_count": null,
   "metadata": {},
   "outputs": [],
   "source": []
  },
  {
   "cell_type": "markdown",
   "metadata": {},
   "source": [
    "### 3. Re-train your model on all of the data using the selected approach and prepare it for deployment."
   ]
  },
  {
   "cell_type": "code",
   "execution_count": null,
   "metadata": {},
   "outputs": [],
   "source": []
  },
  {
   "cell_type": "code",
   "execution_count": null,
   "metadata": {},
   "outputs": [],
   "source": []
  },
  {
   "cell_type": "markdown",
   "metadata": {},
   "source": [
    "### 4. Articulate your findings in a summary report."
   ]
  },
  {
   "cell_type": "code",
   "execution_count": null,
   "metadata": {},
   "outputs": [],
   "source": []
  },
  {
   "cell_type": "code",
   "execution_count": null,
   "metadata": {},
   "outputs": [],
   "source": []
  },
  {
   "cell_type": "code",
   "execution_count": 1,
   "metadata": {},
   "outputs": [],
   "source": [
    "import numpy as np\n",
    "import pandas as pd\n",
    "#from IPython.display import Image\n",
    "import matplotlib.pyplot as plt\n",
    "\n",
    "from cslib import fetch_data, engineer_features, convert_to_ts, fetch_ts"
   ]
  },
  {
   "cell_type": "code",
   "execution_count": 3,
   "metadata": {},
   "outputs": [],
   "source": [
    "ts = convert_to_ts(fetch_data(\"cs-train/\"))"
   ]
  },
  {
   "cell_type": "code",
   "execution_count": 4,
   "metadata": {},
   "outputs": [
    {
     "data": {
      "text/html": [
       "<div>\n",
       "<style scoped>\n",
       "    .dataframe tbody tr th:only-of-type {\n",
       "        vertical-align: middle;\n",
       "    }\n",
       "\n",
       "    .dataframe tbody tr th {\n",
       "        vertical-align: top;\n",
       "    }\n",
       "\n",
       "    .dataframe thead th {\n",
       "        text-align: right;\n",
       "    }\n",
       "</style>\n",
       "<table border=\"1\" class=\"dataframe\">\n",
       "  <thead>\n",
       "    <tr style=\"text-align: right;\">\n",
       "      <th></th>\n",
       "      <th>date</th>\n",
       "      <th>purchases</th>\n",
       "      <th>unique_invoices</th>\n",
       "      <th>unique_streams</th>\n",
       "      <th>total_views</th>\n",
       "      <th>year_month</th>\n",
       "      <th>revenue</th>\n",
       "    </tr>\n",
       "  </thead>\n",
       "  <tbody>\n",
       "    <tr>\n",
       "      <th>0</th>\n",
       "      <td>2017-11-01</td>\n",
       "      <td>0</td>\n",
       "      <td>0</td>\n",
       "      <td>0</td>\n",
       "      <td>0</td>\n",
       "      <td>2017-11</td>\n",
       "      <td>0.0</td>\n",
       "    </tr>\n",
       "    <tr>\n",
       "      <th>1</th>\n",
       "      <td>2017-11-02</td>\n",
       "      <td>0</td>\n",
       "      <td>0</td>\n",
       "      <td>0</td>\n",
       "      <td>0</td>\n",
       "      <td>2017-11</td>\n",
       "      <td>0.0</td>\n",
       "    </tr>\n",
       "    <tr>\n",
       "      <th>2</th>\n",
       "      <td>2017-11-03</td>\n",
       "      <td>0</td>\n",
       "      <td>0</td>\n",
       "      <td>0</td>\n",
       "      <td>0</td>\n",
       "      <td>2017-11</td>\n",
       "      <td>0.0</td>\n",
       "    </tr>\n",
       "    <tr>\n",
       "      <th>3</th>\n",
       "      <td>2017-11-04</td>\n",
       "      <td>0</td>\n",
       "      <td>0</td>\n",
       "      <td>0</td>\n",
       "      <td>0</td>\n",
       "      <td>2017-11</td>\n",
       "      <td>0.0</td>\n",
       "    </tr>\n",
       "    <tr>\n",
       "      <th>4</th>\n",
       "      <td>2017-11-05</td>\n",
       "      <td>0</td>\n",
       "      <td>0</td>\n",
       "      <td>0</td>\n",
       "      <td>0</td>\n",
       "      <td>2017-11</td>\n",
       "      <td>0.0</td>\n",
       "    </tr>\n",
       "  </tbody>\n",
       "</table>\n",
       "</div>"
      ],
      "text/plain": [
       "        date  purchases  unique_invoices  unique_streams  total_views  \\\n",
       "0 2017-11-01          0                0               0            0   \n",
       "1 2017-11-02          0                0               0            0   \n",
       "2 2017-11-03          0                0               0            0   \n",
       "3 2017-11-04          0                0               0            0   \n",
       "4 2017-11-05          0                0               0            0   \n",
       "\n",
       "  year_month  revenue  \n",
       "0    2017-11      0.0  \n",
       "1    2017-11      0.0  \n",
       "2    2017-11      0.0  \n",
       "3    2017-11      0.0  \n",
       "4    2017-11      0.0  "
      ]
     },
     "execution_count": 4,
     "metadata": {},
     "output_type": "execute_result"
    }
   ],
   "source": [
    "ts.head()"
   ]
  },
  {
   "cell_type": "code",
   "execution_count": 5,
   "metadata": {},
   "outputs": [
    {
     "name": "stdout",
     "output_type": "stream",
     "text": [
      "<class 'pandas.core.frame.DataFrame'>\n",
      "RangeIndex: 607 entries, 0 to 606\n",
      "Data columns (total 7 columns):\n",
      " #   Column           Non-Null Count  Dtype        \n",
      "---  ------           --------------  -----        \n",
      " 0   date             607 non-null    datetime64[s]\n",
      " 1   purchases        607 non-null    int32        \n",
      " 2   unique_invoices  607 non-null    int64        \n",
      " 3   unique_streams   607 non-null    int64        \n",
      " 4   total_views      607 non-null    int64        \n",
      " 5   year_month       607 non-null    object       \n",
      " 6   revenue          607 non-null    float64      \n",
      "dtypes: datetime64[s](1), float64(1), int32(1), int64(3), object(1)\n",
      "memory usage: 30.9+ KB\n"
     ]
    }
   ],
   "source": [
    "ts.info()"
   ]
  },
  {
   "cell_type": "code",
   "execution_count": 6,
   "metadata": {},
   "outputs": [
    {
     "data": {
      "image/png": "[encoded data removed]",
      "text/plain": [
       "<Figure size 640x480 with 1 Axes>"
      ]
     },
     "metadata": {},
     "output_type": "display_data"
    }
   ],
   "source": [
    "#the columns in the dfts are: date, purchases, unique_invoices, unique_streams, total_views, year_month, revenue\n",
    "#plot\n",
    "plt.plot(ts['date'], ts['revenue'])\n",
    "plt.show()\n",
    "\n"
   ]
  },
  {
   "cell_type": "code",
   "execution_count": 7,
   "metadata": {},
   "outputs": [
    {
     "data": {
      "image/png": "[encoded data removed]",
      "text/plain": [
       "<Figure size 640x480 with 1 Axes>"
      ]
     },
     "metadata": {},
     "output_type": "display_data"
    }
   ],
   "source": [
    "#show outliers\n",
    "plt.boxplot(ts['revenue'])\n",
    "plt.show()"
   ]
  },
  {
   "cell_type": "code",
   "execution_count": 8,
   "metadata": {},
   "outputs": [],
   "source": [
    "#export to csv\n",
    "ts.to_csv('ts-data.csv', index=False)"
   ]
  },
  {
   "cell_type": "markdown",
   "metadata": {},
   "source": [
    "[EOF]"
   ]
  }
 ],
 "metadata": {
  "kernelspec": {
   "display_name": "Python 3",
   "language": "python",
   "name": "python3"
  },
  "language_info": {
   "codemirror_mode": {
    "name": "ipython",
    "version": 3
   },
   "file_extension": ".py",
   "mimetype": "text/x-python",
   "name": "python",
   "nbconvert_exporter": "python",
   "pygments_lexer": "ipython3",
   "version": "3.10.4"
  }
 },
 "nbformat": 4,
 "nbformat_minor": 2
}
